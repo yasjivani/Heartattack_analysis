{
 "cells": [
  {
   "cell_type": "markdown",
   "id": "7031f3d0-cdb3-4031-8035-3ea3f018682b",
   "metadata": {},
   "source": [
    "__GERMANY HEART ATTACK ANALYSIS__"
   ]
  },
  {
   "cell_type": "code",
   "execution_count": 1,
   "id": "a7dceaeb-c415-4705-8bdb-74f5f433c776",
   "metadata": {},
   "outputs": [],
   "source": [
    "import mysql.connector\n",
    "import pandas as pd"
   ]
  },
  {
   "cell_type": "code",
   "execution_count": null,
   "id": "186bd2a2-775f-41f4-9225-40be56ec8d8a",
   "metadata": {},
   "outputs": [],
   "source": [
    "# Database Configuration (Use your credentials to connect with MySQL Database)\n",
    "DB_CONFIG = {\n",
    "    \"host\": \"#hostname\",\n",
    "    \"user\": \"#username\",\n",
    "    \"password\": \"#your_password\",  # Ensure this is secure in production!\n",
    "    \"database\": \"#database_name\"\n",
    "}\n",
    "\n",
    "# Create a connection\n",
    "try:\n",
    "    connection = mysql.connector.connect(**DB_CONFIG)\n",
    "    print(\"Connection Successful\")\n",
    "except mysql.connector.Error as err:\n",
    "    print(f\"Connection Error: {err}\")"
   ]
  },
  {
   "cell_type": "code",
   "execution_count": null,
   "id": "197abc68-b81f-4725-9de2-abb0ccbca86b",
   "metadata": {},
   "outputs": [],
   "source": [
    "def fetch_query_results(query):\n",
    "    \"\"\"Executes a SQL query and returns a Pandas DataFrame.\"\"\"\n",
    "    try:\n",
    "        with connection.cursor() as cursor:\n",
    "            cursor.execute(query)\n",
    "            return pd.DataFrame(cursor.fetchall(), columns=[desc[0] for desc in cursor.description])\n",
    "    except mysql.connector.Error as err:\n",
    "        print(f\"Error executing query: {err}\")\n",
    "        return None"
   ]
  },
  {
   "cell_type": "markdown",
   "id": "6e07d66e-f0a6-4839-9d21-2a99cb992f98",
   "metadata": {},
   "source": [
    "__1. Find the total number of heart attack incidences for each age group in Germany.__"
   ]
  },
  {
   "cell_type": "code",
   "execution_count": null,
   "id": "8a4265b9-11f6-44dd-a6b1-36050cce4ed0",
   "metadata": {},
   "outputs": [],
   "source": [
    "query1 = \"\"\"\n",
    "SELECT age_group, COUNT(*) AS number_of_heart_attack_incidence\n",
    "FROM heart_attack_germany\n",
    "WHERE heart_attack_incidence = 1\n",
    "GROUP BY age_group;\n",
    "\"\"\"\n",
    "res1 = fetch_query_results(query1)\n",
    "res1\n"
   ]
  },
  {
   "cell_type": "markdown",
   "id": "c4b118ae-fe87-45d9-b512-fa1b18a0577c",
   "metadata": {},
   "source": [
    "__2. Calculate the average BMI for each gender across all states.__"
   ]
  },
  {
   "cell_type": "code",
   "execution_count": null,
   "id": "5b9d75f2-e4d7-4255-8278-0f37632c46ab",
   "metadata": {},
   "outputs": [],
   "source": [
    "query2 = \"\"\"\n",
    "SELECT state, gender, ROUND(AVG(bmi),4) AS avg_bmi\n",
    "FROM heart_attack_germany\n",
    "GROUP BY state, gender;;\n",
    "\"\"\"\n",
    "res2 = fetch_query_results(query2)\n",
    "res2"
   ]
  },
  {
   "cell_type": "markdown",
   "id": "4210c901-c14d-4c58-b2f6-e0c8813fbd28",
   "metadata": {},
   "source": [
    "__3. List the top 5 states with the highest heart attack incidence rates among youth.__"
   ]
  },
  {
   "cell_type": "code",
   "execution_count": null,
   "id": "6ba3affd-b8d1-453b-83f5-df3d087a4b47",
   "metadata": {},
   "outputs": [],
   "source": [
    "query3 = \"\"\"\n",
    "SELECT state, COUNT(*) AS number_of_heart_attack_incidence\n",
    "FROM heart_attack_germany\n",
    "WHERE heart_attack_incidence = 1\n",
    "GROUP BY state\n",
    "ORDER BY number_of_heart_attack_incidence DESC\n",
    "LIMIT 5;\n",
    "\"\"\"\n",
    "res3 = fetch_query_results(query3)\n",
    "res3"
   ]
  },
  {
   "cell_type": "markdown",
   "id": "33eaee66-0232-4ff6-bba0-beec2593f4bd",
   "metadata": {},
   "source": [
    "__4. Count the number of heart attack incidences in urban areas compared to rural areas.__"
   ]
  },
  {
   "cell_type": "code",
   "execution_count": null,
   "id": "e9be4711-a4fe-4e85-9c6f-0242e8276f28",
   "metadata": {},
   "outputs": [],
   "source": [
    "query4 = \"\"\"\n",
    "SELECT urban_rural, COUNT(*) AS number_of_heart_attack_incidence\n",
    "FROM heart_attack_germany\n",
    "WHERE heart_attack_incidence = 1\n",
    "GROUP BY urban_rural;\t\t\n",
    "\"\"\"\n",
    "res4 = fetch_query_results(query4)\n",
    "res4"
   ]
  },
  {
   "cell_type": "markdown",
   "id": "72cf42be-2982-4a4f-b459-cfa475dfc41b",
   "metadata": {},
   "source": [
    "__5.\tFind the average heart attack incidence by socioeconomic status.__"
   ]
  },
  {
   "cell_type": "code",
   "execution_count": null,
   "id": "035ca828-1166-4e9b-a5e4-9b67ebb632a0",
   "metadata": {},
   "outputs": [],
   "source": [
    "query5 = \"\"\" \n",
    "SELECT socioeconomic_status, AVG(heart_attack_incidence) AS number_of_heart_attack_incidence\n",
    "FROM heart_attack_germany\n",
    "GROUP BY socioeconomic_status;\n",
    "\"\"\"\n",
    "res5 = fetch_query_results(query5)\n",
    "res5"
   ]
  },
  {
   "cell_type": "markdown",
   "id": "3924128c-a2f9-4290-9e85-c3d4384abb51",
   "metadata": {},
   "source": [
    "__6.\tIdentify the year with the highest heart attack incidences for adults.__"
   ]
  },
  {
   "cell_type": "code",
   "execution_count": null,
   "id": "b80e3dd8-ddb3-4ccf-b6c5-8db7c915231d",
   "metadata": {},
   "outputs": [],
   "source": [
    "query6 = \"\"\" \n",
    "SELECT years, COUNT(*) AS number_of_heart_attack_incidence\n",
    "FROM heart_attack_germany\n",
    "WHERE heart_attack_incidence = 1\n",
    "GROUP BY years\n",
    "ORDER BY number_of_heart_attack_incidence DESC\n",
    "LIMIT 1; # year is 2017 with 4686 cases of heartattack \n",
    "\"\"\"\n",
    "res6 = fetch_query_results(query6)\n",
    "res6"
   ]
  },
  {
   "cell_type": "markdown",
   "id": "776001f8-927a-4e24-ac34-7d6062e65763",
   "metadata": {},
   "source": [
    "__7.\tCompare the heart attack incidence rates between youth and adults by region.__"
   ]
  },
  {
   "cell_type": "code",
   "execution_count": null,
   "id": "dbeef1ce-dd75-49e0-a4cb-6cff78736234",
   "metadata": {},
   "outputs": [],
   "source": [
    "query7 = \"\"\" \n",
    "SELECT urban_rural AS region, age_group, COUNT(*) AS number_of_heart_attack_incidence\n",
    "FROM heart_attack_germany\n",
    "WHERE heart_attack_incidence = 1\n",
    "GROUP BY urban_rural, age_group;\n",
    "\"\"\"\n",
    "res7 = fetch_query_results(query7)\n",
    "res7"
   ]
  },
  {
   "cell_type": "markdown",
   "id": "bf0f5653-88c2-4502-b0b0-aa91af6fe5c8",
   "metadata": {},
   "source": [
    "__8.\tCalculate the percentage of smokers who have had heart attacks across all age groups.__"
   ]
  },
  {
   "cell_type": "code",
   "execution_count": null,
   "id": "fc8fa58d-3bdb-4625-80bf-d288455687cc",
   "metadata": {},
   "outputs": [],
   "source": [
    "query8 = \"\"\" \n",
    "SELECT \n",
    "ROUND(((\n",
    "            SELECT COUNT(heart_attack_incidence) \n",
    "            FROM heart_attack_germany \n",
    "            WHERE heart_attack_incidence = 1 AND smoking_status != 'Non-Smoker'\n",
    "        )/COUNT(*) *100),2) AS percentage_of_smokers_who_have_had_heart_attacks\n",
    "FROM heart_attack_germany;\n",
    "\"\"\"\n",
    "res8 = fetch_query_results(query8)\n",
    "res8"
   ]
  },
  {
   "cell_type": "markdown",
   "id": "faa267d7-b075-4495-86bd-5f81b671c910",
   "metadata": {},
   "source": [
    "__9.\tFind the average physical activity level for states with below-average heart attack rates.__"
   ]
  },
  {
   "cell_type": "code",
   "execution_count": null,
   "id": "80ea7a09-f9a4-4f87-a005-604fccf588f6",
   "metadata": {},
   "outputs": [],
   "source": [
    "query9 = \"\"\" \n",
    "SELECT state AS states_with_below_avg_heart_attack_rates , ROUND(AVG(region_heart_attack_rate),4) AS avg_heart_attack_rates\n",
    "FROM heart_attack_germany\n",
    "GROUP BY state\n",
    "HAVING (SELECT AVG(region_heart_attack_rate) FROM heart_attack_germany) <  avg_heart_attack_rates\n",
    "ORDER BY avg_heart_attack_rates DESC;\n",
    "\"\"\"\n",
    "res9 = fetch_query_results(query9)\n",
    "res9"
   ]
  },
  {
   "cell_type": "markdown",
   "id": "8a2226ad-3a5a-433b-87a5-182ad29f88e6",
   "metadata": {},
   "source": [
    "__10.\tList the years in which alcohol consumption was above the national average.__"
   ]
  },
  {
   "cell_type": "code",
   "execution_count": null,
   "id": "8a11b857-6681-4149-994d-b1f9af5508c7",
   "metadata": {},
   "outputs": [],
   "source": [
    "query10 = \"\"\" \n",
    "SELECT years, ROUND(AVG(alcohol_cosumption),4) AS avg_acohol_consumption_above_national_average\n",
    "FROM heart_attack_germany\n",
    "GROUP BY years\n",
    "HAVING (SELECT ROUND(AVG(alcohol_cosumption),4) AS avg_national_acohol_consumption FROM heart_attack_germany) < avg_acohol_consumption_above_national_average\n",
    "ORDER BY avg_acohol_consumption_above_national_average DESC;\n",
    "\"\"\"\n",
    "res10 = fetch_query_results(query10)\n",
    "res10"
   ]
  },
  {
   "cell_type": "markdown",
   "id": "ea3098ea-cea5-436a-a264-2cb7991e8577",
   "metadata": {},
   "source": [
    "__11.\tGroup the data by gender and calculate the median heart attack incidence.__"
   ]
  },
  {
   "cell_type": "code",
   "execution_count": null,
   "id": "3aacc4b4-5121-4885-bfb7-7bb656c4b4e8",
   "metadata": {},
   "outputs": [],
   "source": [
    "query11 = \"\"\" \n",
    "SELECT gender, AVG(heart_attack_incidence) AS median_value\n",
    "FROM \n",
    "\t(\n",
    "\t\tSELECT gender, heart_attack_incidence,\n",
    "\t\tROW_NUMBER() OVER (PARTITION BY gender ORDER BY heart_attack_incidence) AS row_num,\n",
    "\t\tCOUNT(*) OVER (PARTITION BY gender) AS total_count\n",
    "\t\tFROM heart_attack_germany\n",
    "\t) as RankData\n",
    "WHERE (total_count % 2 = 1 AND row_num = (total_count + 1)/2)\n",
    "OR (total_count % 2 = 0 AND (row_num = (total_count/2) OR row_num = (total_count + 1)/2))\n",
    "GROUP BY gender;\n",
    "\"\"\"\n",
    "res11 = fetch_query_results(query11)\n",
    "res11"
   ]
  },
  {
   "cell_type": "markdown",
   "id": "ac9be7fe-d46a-4363-84aa-55dfb843cfbe",
   "metadata": {},
   "source": [
    "__12.\tFind the maximum and minimum heart attack incidences for each state and year.__"
   ]
  },
  {
   "cell_type": "code",
   "execution_count": null,
   "id": "18dc349b-a2c3-4ea2-ab42-738a60feecff",
   "metadata": {},
   "outputs": [],
   "source": [
    "query12 = \"\"\" \n",
    "SELECT state, years,\n",
    "    MAX(heart_attack_incidence) AS max_incidence,\n",
    "    MIN(heart_attack_incidence) AS min_incidence\n",
    "FROM heart_attack_germany\n",
    "GROUP BY state, years\n",
    "\"\"\"\n",
    "res12 = fetch_query_results(query12)\n",
    "res12"
   ]
  },
  {
   "cell_type": "markdown",
   "id": "63a33dbb-cc27-4742-b4eb-02c82347590e",
   "metadata": {},
   "source": [
    "__13.\tCalculate the average stress level for states with the top 10 highest air pollution indices.__"
   ]
  },
  {
   "cell_type": "code",
   "execution_count": null,
   "id": "26ebdaec-0bb2-428e-871e-7483cab18963",
   "metadata": {},
   "outputs": [],
   "source": [
    "query13 = \"\"\" \n",
    "WITH Top10AirPollution AS \n",
    "        (\n",
    "            SELECT state\n",
    "            FROM heart_attack_germany\n",
    "            ORDER BY air_pollution_index DESC\n",
    "            LIMIT 10\n",
    "        )\n",
    "\n",
    "SELECT state,\n",
    "    AVG(CASE\n",
    "            WHEN stress_level = \"High\" THEN 3\n",
    "            WHEN stress_level = \"Moderate\" THEN 2\n",
    "            WHEN stress_level = \"Low\" THEN 1\n",
    "        END\n",
    "    ) AS avg_stress_level\n",
    "FROM heart_attack_germany\n",
    "WHERE state IN (SELECT state FROM Top10AirPollution)\n",
    "GROUP BY state;\n",
    "\"\"\"\n",
    "res13 = fetch_query_results(query13)\n",
    "res13"
   ]
  },
  {
   "cell_type": "markdown",
   "id": "a876589d-812b-4906-8159-6e0687fc7590",
   "metadata": {},
   "source": [
    "__14.\tGroup the data by education level and find the average cholesterol level for each group.__"
   ]
  },
  {
   "cell_type": "code",
   "execution_count": null,
   "id": "680c3e6b-5bcc-40aa-9beb-93ad048d65eb",
   "metadata": {},
   "outputs": [],
   "source": [
    "query14 = \"\"\" \n",
    "SELECT education_level, ROUND(AVG(cholestrol_level),4) AS avg_cholestrol_level\n",
    "FROM heart_attack_germany\n",
    "GROUP BY education_level;\n",
    "\"\"\"\n",
    "res14 = fetch_query_results(query14)\n",
    "res14"
   ]
  },
  {
   "cell_type": "markdown",
   "id": "4cf73df5-dd1c-4165-9859-e4a3c453d32f",
   "metadata": {},
   "source": [
    "__15.\tCalculate the average heart attack rate in regions with above-average healthcare access.__"
   ]
  },
  {
   "cell_type": "code",
   "execution_count": null,
   "id": "9ee96b45-5b18-4ab1-9538-5fcde89949ba",
   "metadata": {},
   "outputs": [],
   "source": [
    "# taken urban/rural as a region. in case of depth analysis state also can be taken as region. \n",
    "query15 = \"\"\" \n",
    "WITH avg_healthcare_access AS\n",
    "                            (\n",
    "                                SELECT urban_rural AS region,\n",
    "                                    AVG(CASE \n",
    "                                            WHEN healthcare_access = 'Easy' THEN 1\n",
    "                                            WHEN healthcare_access = 'Moderate' THEN 2\n",
    "                                            WHEN healthcare_access = 'Hard' THEN 3\n",
    "                                            ELSE NULL\n",
    "                                        END) AS avg_healthcare_access\n",
    "                                FROM heart_attack_germany\n",
    "                                GROUP BY urban_rural                                        \n",
    "                            )\n",
    "\n",
    "SELECT a.region, ROUND(AVG(h.region_heart_attack_rate),4) AS avg_heart_attack_rate_in_regions\n",
    "FROM avg_healthcare_access a\n",
    "JOIN heart_attack_germany h\n",
    "ON a.region = h.urban_rural\n",
    "WHERE \n",
    "    CASE \n",
    "        WHEN healthcare_access = 'Easy' THEN 1\n",
    "        WHEN healthcare_access = 'Moderate' THEN 2\n",
    "        WHEN healthcare_access = 'Hard' THEN 3\n",
    "        ELSE NULL\n",
    "    END > a.avg_healthcare_access # numbers will change if this condition is not applied\n",
    "GROUP BY a.region;\n",
    "\"\"\"\n",
    "res15 = fetch_query_results(query15)\n",
    "res15"
   ]
  },
  {
   "cell_type": "markdown",
   "id": "1c338883-e3ce-4c1c-9b16-9829c8aeb5fa",
   "metadata": {},
   "source": [
    "__16.\tCompare the total heart attack incidence rates for urban vs. rural areas grouped by socioeconomic status.__"
   ]
  },
  {
   "cell_type": "code",
   "execution_count": null,
   "id": "20c6b371-ce05-4147-a077-cc256081b6be",
   "metadata": {},
   "outputs": [],
   "source": [
    "query16 = \"\"\" \n",
    "SELECT \n",
    "    socioeconomic_status AS \"Socioeconomic Status\",\n",
    "    SUM(CASE WHEN urban_rural = 'Urban' THEN heart_attack_incidence ELSE 0 END) AS \"Total Heart Attack Incidence (Urban)\",\n",
    "    SUM(CASE WHEN urban_rural = 'Rural' THEN heart_attack_incidence ELSE 0 END) AS \"Total Heart Attack Incidence (Rural)\"\n",
    "FROM heart_attack_germany\n",
    "GROUP BY socioeconomic_status;\n",
    "\"\"\"\n",
    "res16 = fetch_query_results(query16)\n",
    "res16"
   ]
  },
  {
   "cell_type": "markdown",
   "id": "40000e50-afe5-4e5d-8d3d-6cbb1e323165",
   "metadata": {},
   "source": [
    "__17.\tFind the most common diet quality rating among youth with heart attacks.__"
   ]
  },
  {
   "cell_type": "code",
   "execution_count": null,
   "id": "d077d9c2-b147-43c1-b115-75ed8c2a6a2b",
   "metadata": {},
   "outputs": [],
   "source": [
    "query17 = \"\"\" \n",
    "SELECT diet_quality, COUNT(diet_quality) AS diet_quality_rating\n",
    "FROM heart_attack_germany\n",
    "WHERE age_group = 'Youth' AND heart_attack_incidence > 0\n",
    "GROUP BY diet_quality\n",
    "ORDER BY diet_quality_rating DESC\n",
    "LIMIT 1;\n",
    "\"\"\"\n",
    "res17 = fetch_query_results(query17)\n",
    "res17"
   ]
  },
  {
   "cell_type": "markdown",
   "id": "9a2d53bb-c855-4b44-baff-6ece3c6417ae",
   "metadata": {},
   "source": [
    "__18.\tIdentify the states where the heart attack incidence rate increased year-over-year for three consecutive years.__"
   ]
  },
  {
   "cell_type": "code",
   "execution_count": null,
   "id": "847418c8-2939-40be-b483-2a7f9c0bc248",
   "metadata": {},
   "outputs": [],
   "source": [
    "query18 = \"\"\" \n",
    "WITH YearlyIncidence AS \n",
    "        (\n",
    "            SELECT state, years,\n",
    "                SUM(heart_attack_incidence) AS yearly_incidences\n",
    "            FROM heart_attack_germany\n",
    "            GROUP BY state,years\n",
    "        ),\n",
    "ConsecutiveIncrease AS\n",
    "\t\t(\n",
    "\t\t\tSELECT state,years,yearly_incidences,\n",
    "\t\t\t\tLAG(yearly_incidences) OVER(PARTITION BY state ORDER BY years) AS prev_yrs,\n",
    "\t\t\t\tLAG(yearly_incidences,2) OVER(PARTITION BY state ORDER BY years) AS two_yrs_ago\n",
    "\t\t\tFROM YearlyIncidence\n",
    "        )\n",
    "\n",
    "SELECT state,years,yearly_incidences,prev_yrs,two_yrs_ago\n",
    "FROM ConsecutiveIncrease\n",
    "WHERE yearly_incidences > prev_yrs AND prev_yrs > two_yrs_ago;\n",
    "\"\"\"\n",
    "res18 = fetch_query_results(query18)\n",
    "res18"
   ]
  },
  {
   "cell_type": "markdown",
   "id": "650080ba-a922-41cb-a818-3a1e59ff9695",
   "metadata": {},
   "source": [
    "__19.\tCalculate the average physical activity level grouped by employment status.__"
   ]
  },
  {
   "cell_type": "code",
   "execution_count": null,
   "id": "520f2a71-6215-437b-9f9b-d5f4aa66282e",
   "metadata": {},
   "outputs": [],
   "source": [
    "query19 = \"\"\" \n",
    "SELECT \n",
    "    employment_status, \n",
    "    AVG(CASE \n",
    "            WHEN physical_activity_level = 'low' THEN 1\n",
    "            WHEN physical_activity_level = 'moderate' THEN 2\n",
    "            WHEN physical_activity_level = 'high' THEN 3\n",
    "            ELSE NULL\n",
    "        END) AS avg_physical_activity_score\n",
    "FROM heart_attack_germany\n",
    "GROUP BY employment_status\n",
    "ORDER BY employment_status;\n",
    "\"\"\"\n",
    "res19 = fetch_query_results(query19)\n",
    "res19"
   ]
  },
  {
   "cell_type": "markdown",
   "id": "f149385d-b67f-40a0-95d5-056e5146438b",
   "metadata": {},
   "source": [
    "__20.\tUsing a subquery, find the states where the average BMI is above the national average.__"
   ]
  },
  {
   "cell_type": "code",
   "execution_count": null,
   "id": "997f73fe-bd96-4ebf-8441-084d8af3e0bd",
   "metadata": {},
   "outputs": [],
   "source": [
    "query20 = \"\"\" \n",
    "SELECT \n",
    "    state, \n",
    "    ROUND(AVG(bmi),4) AS avg_bmi\n",
    "FROM heart_attack_germany\n",
    "GROUP BY state\n",
    "HAVING AVG(bmi) > (SELECT AVG(bmi) FROM heart_attack_germany)\n",
    "ORDER BY avg_bmi DESC;\n",
    "\"\"\"\n",
    "res20 = fetch_query_results(query20)\n",
    "res20"
   ]
  },
  {
   "cell_type": "markdown",
   "id": "01cc1f7c-9824-4056-954a-6c0de761e05d",
   "metadata": {},
   "source": [
    "__21.\tFind the states where the youth heart attack rate is higher than the adult rate using a self-join.__"
   ]
  },
  {
   "cell_type": "code",
   "execution_count": null,
   "id": "08248e42-7cc8-4875-80fa-ec6bdb188d38",
   "metadata": {},
   "outputs": [],
   "source": [
    "query21 = \"\"\" \n",
    "WITH AgeData AS \n",
    "        (\n",
    "            SELECT state, age_group,\n",
    "                AVG(heart_attack_incidence) AS avg_heart_attack_rate\n",
    "            FROM heart_attack_germany\n",
    "            WHERE age_group IN (\"Youth\", \"Adult\")\n",
    "            GROUP BY state, age_group\n",
    "        )\n",
    "SELECT \n",
    "    y.state,\n",
    "    y.avg_heart_attack_rate AS youth_rate,\n",
    "    a.avg_heart_attack_rate AS adult_rate\n",
    "FROM AgeData AS y\n",
    "JOIN AgeData AS a\n",
    "ON y.state = a.state AND y.age_group = \"Youth\" AND a.age_group = \"Adult\"\n",
    "WHERE y.avg_heart_attack_rate > a.avg_heart_attack_rate;\n",
    "\"\"\"\n",
    "res21 = fetch_query_results(query21)\n",
    "res21"
   ]
  },
  {
   "cell_type": "markdown",
   "id": "e97b086d-a32d-4458-a805-312f5a2fade6",
   "metadata": {},
   "source": [
    "__22.\tIdentify the regions with heart attack rates above the average for their socioeconomic status using a correlated subquery.__"
   ]
  },
  {
   "cell_type": "code",
   "execution_count": null,
   "id": "092df1d1-028a-42c1-8b17-0fe028d96356",
   "metadata": {},
   "outputs": [],
   "source": [
    "query22 = \"\"\" \n",
    "SELECT state, socioeconomic_status, AVG(heart_attack_incidence) AS avg_heart_attack_incidence\n",
    "FROM heart_attack_germany AS t1\n",
    "GROUP BY state, socioeconomic_status\n",
    "HAVING AVG(heart_attack_incidence) > (\n",
    "    SELECT AVG(heart_attack_incidence)\n",
    "    FROM heart_attack_germany AS t2\n",
    "    WHERE t1.socioeconomic_status = t2.socioeconomic_status\n",
    ");\n",
    "\"\"\"\n",
    "res22 = fetch_query_results(query22)\n",
    "res22"
   ]
  },
  {
   "cell_type": "markdown",
   "id": "584d26a4-b3d1-4f0e-bd55-b359ed907a00",
   "metadata": {},
   "source": [
    "__23.\tWrite a query to find the states with the highest incidence rate for smokers and compare it to nonsmokers using a join.__"
   ]
  },
  {
   "cell_type": "code",
   "execution_count": null,
   "id": "4bbd59cd-00b8-43ea-96e4-fe872545d77c",
   "metadata": {},
   "outputs": [],
   "source": [
    "query23 = \"\"\"\n",
    "WITH smoker_inc AS \n",
    "        (\n",
    "            SELECT state,AVG(heart_attack_incidence) AS avg_incidence\n",
    "            FROM heart_attack_germany\n",
    "            WHERE smoking_status IN ('Smoker','Former Smoker')\n",
    "            GROUP BY state\n",
    "        ),\n",
    "nonsmoker_inc AS\n",
    "        (\n",
    "            SELECT state,AVG(heart_attack_incidence) AS avg_incidence\n",
    "            FROM heart_attack_germany\n",
    "            WHERE smoking_status = 'Non-Smoker'\n",
    "            GROUP BY state\n",
    "        )\n",
    "SELECT sm.state, sm.avg_incidence AS SmokerIncidence, nsm.avg_incidence AS NonSmokerIncidence\n",
    "FROM smoker_inc AS sm\n",
    "JOIN nonsmoker_inc AS nsm\n",
    "ON sm.state = nsm.state\n",
    "ORDER BY SmokerIncidence DESC;\n",
    "\"\"\"\n",
    "res23 = fetch_query_results(query23)\n",
    "res23"
   ]
  },
  {
   "cell_type": "markdown",
   "id": "afc71b43-d671-442d-8578-ef13c9dfb671",
   "metadata": {},
   "source": [
    "__24.\tUse a subquery to find states with higher-than-average stress levels but lower-than-average heart attack incidences.__"
   ]
  },
  {
   "cell_type": "code",
   "execution_count": null,
   "id": "694b0526-1d68-4bef-baa5-59c762b5bc59",
   "metadata": {},
   "outputs": [],
   "source": [
    "query24 = \"\"\" \n",
    "SELECT state, AVG(heart_attack_incidence) AS avg_heart_attack_incidences,\n",
    "\tAVG(CASE\n",
    "            WHEN stress_level = \"High\" THEN 3\n",
    "            WHEN stress_level = \"Moderate\" THEN 2\n",
    "            WHEN stress_level = \"Low\" THEN 1\n",
    "        END\n",
    "\t\t) AS avg_stress_level\n",
    "FROM heart_attack_germany\n",
    "GROUP BY state\n",
    "HAVING avg_heart_attack_incidences > (SELECT AVG(heart_attack_incidence) FROM heart_attack_germany)\n",
    "\tAND avg_stress_level > (SELECT AVG(CASE\n",
    "\t\t\t\t\t\t\t\t\t\t\tWHEN stress_level = \"High\" THEN 3\n",
    "\t\t\t\t\t\t\t\t\t\t\tWHEN stress_level = \"Moderate\" THEN 2\n",
    "\t\t\t\t\t\t\t\t\t\t\tWHEN stress_level = \"Low\" THEN 1\n",
    "\t\t\t\t\t\t\t\t\t\tEND\n",
    "\t\t\t\t\t\t\t\t\t\t) AS avg_stress_level\n",
    "\t\t\t\t\t\t\tFROM heart_attack_germany);\n",
    "\"\"\"\n",
    "res24 = fetch_query_results(query24)\n",
    "res24"
   ]
  },
  {
   "cell_type": "markdown",
   "id": "3d2cbe7f-ed04-43b3-abe2-09ca40900f15",
   "metadata": {},
   "source": [
    "__25.\tCalculate the yearly percentage change in heart attack rates for each state.__"
   ]
  },
  {
   "cell_type": "code",
   "execution_count": null,
   "id": "94d953c0-e8d5-451b-a8fb-e17b4230976a",
   "metadata": {},
   "outputs": [],
   "source": [
    "query25 = \"\"\" \n",
    "WITH YearlyRate AS \n",
    "        (\n",
    "            SELECT state,years,\n",
    "                SUM(heart_attack_incidence) AS total_incidences\n",
    "            FROM heart_attack_germany\n",
    "            GROUP BY state,years\n",
    "        ),\n",
    "PrevYearRate AS\n",
    "        (\n",
    "            SELECT state,years, total_incidences,\n",
    "                LAG(total_incidences) OVER (PARTITION BY state ORDER BY years) AS prev_year_incidence\n",
    "            FROM YearlyRate\n",
    "        )\n",
    "SELECT state,years,\n",
    "    ((total_incidences - prev_year_incidence)/prev_year_incidence)*100 AS YoY_percentage\n",
    "FROM PrevYearRate\n",
    "WHERE prev_year_incidence IS NOT NULL;\n",
    "\"\"\"\n",
    "res25 = fetch_query_results(query25)\n",
    "res25"
   ]
  },
  {
   "cell_type": "markdown",
   "id": "859421a4-94c1-4f4a-af28-9ba8f18b2b3b",
   "metadata": {},
   "source": [
    "__26.\tRank the states by heart attack incidence rate in adults, partitioned by year.__"
   ]
  },
  {
   "cell_type": "code",
   "execution_count": null,
   "id": "37ce8f44-d4a8-456b-a42c-9f96fec5e8af",
   "metadata": {},
   "outputs": [],
   "source": [
    "query26 = \"\"\" \n",
    "WITH RankedData As\n",
    "        (\n",
    "            SELECT state,years,\n",
    "                RANK() OVER (PARTITION BY years ORDER BY SUM(heart_attack_incidence) DESC) AS rank_by_incidence\n",
    "            FROM heart_attack_germany\n",
    "            WHERE age_group = \"Adult\"\n",
    "            GROUP BY state,years\n",
    "        )\n",
    "SELECT state AS States,\n",
    "    MAX(CASE WHEN years = 2015 THEN rank_by_incidence END) AS \"2015 Rank\", \n",
    "    MAX(CASE WHEN years = 2016 THEN rank_by_incidence END) AS \"2016 Rank\", \n",
    "    MAX(CASE WHEN years = 2017 THEN rank_by_incidence END) AS \"2017 Rank\", \n",
    "    MAX(CASE WHEN years = 2018 THEN rank_by_incidence END) AS \"2018 Rank\", \n",
    "    MAX(CASE WHEN years = 2019 THEN rank_by_incidence END) AS \"2019 Rank\", \n",
    "    MAX(CASE WHEN years = 2020 THEN rank_by_incidence END) AS \"2020 Rank\", \n",
    "    MAX(CASE WHEN years = 2021 THEN rank_by_incidence END) AS \"2021 Rank\", \n",
    "    MAX(CASE WHEN years = 2022 THEN rank_by_incidence END) AS \"2022 Rank\",\n",
    "    MAX(CASE WHEN years = 2023 THEN rank_by_incidence END) AS \"2023 Rank\"\n",
    "FROM RankedData\n",
    "GROUP BY state\n",
    "ORDER BY state;\n",
    "\"\"\"\n",
    "res26 = fetch_query_results(query26)\n",
    "res26"
   ]
  },
  {
   "cell_type": "markdown",
   "id": "19a993ca-46f1-4df7-ae55-e005876b2e7e",
   "metadata": {},
   "source": [
    "__27.\tCalculate the running total of heart attack incidences for youth in Germany, partitioned by year.__"
   ]
  },
  {
   "cell_type": "code",
   "execution_count": null,
   "id": "06f05bc0-ef5d-43fb-9471-8b6774d91212",
   "metadata": {},
   "outputs": [],
   "source": [
    "query27 = \"\"\" \n",
    "SELECT years, state,heart_attack_incidence,\n",
    "       SUM(heart_attack_incidence) OVER (PARTITION BY years ORDER BY state ROWS BETWEEN UNBOUNDED PRECEDING AND CURRENT ROW) AS Running_Total\n",
    "FROM heart_attack_germany\n",
    "WHERE age_group = 'Youth';\n",
    "\"\"\"\n",
    "res27 = fetch_query_results(query27)\n",
    "res27"
   ]
  },
  {
   "cell_type": "markdown",
   "id": "1b34c4e9-605f-41c5-9dbe-9e31236204f4",
   "metadata": {},
   "source": [
    "__28.\tFind the cumulative average cholesterol level for each state and year.__"
   ]
  },
  {
   "cell_type": "code",
   "execution_count": null,
   "id": "06fabd77-990d-4cc1-b56f-40cdec3a17dd",
   "metadata": {},
   "outputs": [],
   "source": [
    "query28 = \"\"\" \n",
    "SELECT state, years, cholestrol_level, \n",
    "    AVG(cholestrol_level) OVER (PARTITION BY state ORDER BY years ROWS BETWEEN UNBOUNDED PRECEDING AND CURRENT ROW) AS Cumm_cholestrol_avg\n",
    "FROM heart_attack_germany;\n",
    "\"\"\"\n",
    "res28 = fetch_query_results(query28)\n",
    "res28"
   ]
  },
  {
   "cell_type": "markdown",
   "id": "5e1dca6c-6292-45a3-b098-d33c046a75a6",
   "metadata": {},
   "source": [
    "__29.\tUse a window function to identify the top 3 states with the highest youth heart attack rates each year.__"
   ]
  },
  {
   "cell_type": "code",
   "execution_count": null,
   "id": "c33d47fb-f6b4-4222-88ed-3081c522657f",
   "metadata": {},
   "outputs": [],
   "source": [
    "query29 = \"\"\" \n",
    "WITH TotalIncidence AS\n",
    "\t\t(\n",
    "\t\t\tSELECT state, years,\n",
    "\t\t\t\tSUM(heart_attack_incidence) AS total_incidence\n",
    "\t\t\tFROM heart_attack_germany\n",
    "            WHERE age_group = \"Youth\" \n",
    "            GROUP BY state, years\n",
    "        ),\n",
    "RankedData AS \n",
    "\t\t(\n",
    "\t\t\tSELECT state, years, total_incidence,\n",
    "\t\t\t\tRANK() OVER (PARTITION BY years ORDER BY total_incidence DESC) AS rank_by_incidence\n",
    "\t\t\tFROM TotalIncidence\n",
    "        )\n",
    "SELECT years, state, total_incidence, rank_by_incidence\n",
    "FROM RankedData\n",
    "WHERE rank_by_incidence <= 3;\n",
    "\"\"\"\n",
    "res29 = fetch_query_results(query29)\n",
    "res29"
   ]
  },
  {
   "cell_type": "markdown",
   "id": "02b53bd4-8b4b-4b68-a806-aa3dfef5242e",
   "metadata": {},
   "source": [
    "__30.\tCalculate the difference in heart attack rates between urban and rural areas for each state using a lag function.__"
   ]
  },
  {
   "cell_type": "code",
   "execution_count": null,
   "id": "3fdb506d-1c78-4672-b1b0-a7b9735f1573",
   "metadata": {},
   "outputs": [],
   "source": [
    "query30 = \"\"\"\n",
    "SELECT state,\n",
    "\tMAX(CASE WHEN urban_rural = \"Urban\" THEN heart_attack_rate END) AS urban_heart_attack_rate,\n",
    "\tMAX(CASE WHEN urban_rural = \"Rural\" THEN heart_attack_rate END) AS rural_heart_attack_rate,\n",
    "\t(MAX(CASE WHEN urban_rural = \"Urban\" THEN heart_attack_rate END) - \n",
    "\tMAX(CASE WHEN urban_rural = \"Rural\" THEN heart_attack_rate END)) AS rate_difference\n",
    "FROM\n",
    "\t(\n",
    "\t\tSELECT state, urban_rural,\n",
    "\t\t\tAVG(heart_attack_incidence) AS heart_attack_rate\n",
    "\t\tFROM heart_attack_germany\n",
    "\t\tGROUP BY state, urban_rural\n",
    "\t) AS subquery\n",
    "GROUP BY state\n",
    "ORDER BY rate_difference DESC;\n",
    "\"\"\"\n",
    "res30 = fetch_query_results(query30)\n",
    "res30"
   ]
  },
  {
   "cell_type": "markdown",
   "id": "81845c6b-893c-4ea8-8d0a-39e9f0a487af",
   "metadata": {},
   "source": [
    "__31.\tFind the correlation between air pollution index and heart attack incidence rates.__"
   ]
  },
  {
   "cell_type": "code",
   "execution_count": null,
   "id": "7f1e812c-d33c-45c4-90d6-90b1147f3aa3",
   "metadata": {},
   "outputs": [],
   "source": [
    "query31 = \"\"\"\n",
    "SELECT \n",
    "    (SUM((air_pollution_index - avg_x) * (heart_attack_incidence - avg_y)) / COUNT(*)) /\n",
    "    (SQRT(SUM(POW(air_pollution_index - avg_x, 2)) / COUNT(*)) *\n",
    "     SQRT(SUM(POW(heart_attack_incidence - avg_y, 2)) / COUNT(*))) AS Correlation_btw_API_and_HAI\n",
    "FROM \n",
    "    (\n",
    "        SELECT \n",
    "            air_pollution_index,\n",
    "            heart_attack_incidence,\n",
    "            (SELECT AVG(air_pollution_index) FROM heart_attack_germany) AS avg_x,\n",
    "            (SELECT AVG(heart_attack_incidence) FROM heart_attack_germany) AS avg_y\n",
    "        FROM \n",
    "            heart_attack_germany\n",
    "    ) AS subquery;\n",
    "\"\"\"\n",
    "\n",
    "res31 = fetch_query_results(query31)\n",
    "res31"
   ]
  },
  {
   "cell_type": "markdown",
   "id": "e2da684f-f9ad-4f83-8bc0-627c61e52f9a",
   "metadata": {},
   "source": [
    "__32.\tIdentify the regions with a consistent increase in heart attack rates across all socioeconomic levels.__"
   ]
  },
  {
   "cell_type": "code",
   "execution_count": null,
   "id": "93d1ab15-91fa-4156-9ed1-76ee82efcb8f",
   "metadata": {},
   "outputs": [],
   "source": [
    "query32 = \"\"\" \n",
    "WITH RegionRates AS\n",
    "        (\n",
    "            SELECT state, socioeconomic_status, years,\n",
    "                SUM(heart_attack_incidence) AS total_incidences\n",
    "            FROM heart_attack_germany\n",
    "            GROUP BY state, socioeconomic_status, years\n",
    "        ),\n",
    "PrevYearIncidences AS\n",
    "        ( \n",
    "            SELECT state, socioeconomic_status, years, total_incidences, \n",
    "                LAG(total_incidences) OVER (PARTITION BY state, socioeconomic_status ORDER BY years) AS previous_yr_incidences\n",
    "            FROM RegionRates\n",
    "        )\n",
    "SELECT state, socioeconomic_status,\n",
    "    COUNT(years) AS YoY_Increase_count\n",
    "FROM PrevYearIncidences\n",
    "WHERE total_incidences > previous_yr_incidences\n",
    "GROUP BY state, socioeconomic_status\n",
    "HAVING COUNT(years) > 1;\n",
    "\"\"\"\n",
    "res32 = fetch_query_results(query32)\n",
    "res32"
   ]
  },
  {
   "cell_type": "markdown",
   "id": "bba49911-235c-4dad-96e0-7a001c8bf2ee",
   "metadata": {},
   "source": [
    "__33.\tAnalyze the effect of diabetes on heart attack incidences for different age groups using a group-by analysis.__"
   ]
  },
  {
   "cell_type": "code",
   "execution_count": null,
   "id": "74b08911-c796-4312-b800-e5e57a9ec1ea",
   "metadata": {},
   "outputs": [],
   "source": [
    "query33 = \"\"\" \n",
    "SELECT age_group,\n",
    "\tAVG(CASE WHEN diabetes = 0 THEN heart_attack_incidence END) AS non_diabetic,\n",
    "    AVG(CASE WHEN diabetes = 1 THEN heart_attack_incidence END) AS diabetic\n",
    "FROM heart_attack_germany\n",
    "GROUP BY age_group;\n",
    "\"\"\"\n",
    "res33 = fetch_query_results(query33)\n",
    "res33"
   ]
  },
  {
   "cell_type": "markdown",
   "id": "b9e8d399-0116-40ce-b908-2c14984e5fe0",
   "metadata": {},
   "source": [
    "__34.\tCalculate the year-over-year growth in heart attack incidences for youth in Germany.__"
   ]
  },
  {
   "cell_type": "code",
   "execution_count": null,
   "id": "4cd35a4a-3406-4a36-a186-da6eacb2e7be",
   "metadata": {},
   "outputs": [],
   "source": [
    "query34 = \"\"\" \n",
    "WITH YoY_Growth AS\n",
    "        (\n",
    "            SELECT years,\n",
    "                SUM(heart_attack_incidence) AS total_incidences\n",
    "            FROM heart_attack_germany\n",
    "            WHERE age_group = \"Youth\"\n",
    "            GROUP BY years\n",
    "        )\n",
    "SELECT years,total_incidences,\n",
    "    (total_incidences - LAG(total_incidences) OVER (ORDER BY years)) / LAG(total_incidences) OVER (ORDER BY years) * 100 AS Growth_Percentage,\n",
    "    SUM(total_incidences) OVER (ORDER BY years) AS YoY_Growth_Incidents\n",
    "FROM YoY_Growth;\n",
    "\"\"\"\n",
    "res34 = fetch_query_results(query34)\n",
    "res34"
   ]
  },
  {
   "cell_type": "markdown",
   "id": "1c2697fd-54c6-4beb-b988-fd34e0ce47c8",
   "metadata": {},
   "source": [
    "__35.\tDetermine if smoking status or alcohol consumption has a stronger correlation with heart attack incidences.__"
   ]
  },
  {
   "cell_type": "code",
   "execution_count": null,
   "id": "e6dbd0e7-8e8b-447a-85c8-771c0e79c6fb",
   "metadata": {},
   "outputs": [],
   "source": [
    "query35 = \"\"\" \n",
    "WITH AlcoholCorrelation AS (\n",
    "    SELECT \n",
    "        (SUM((alcohol_cosumption - avg_x) * (heart_attack_incidence - avg_y)) / COUNT(*)) /\n",
    "        (SQRT(SUM(POW(alcohol_cosumption - avg_x, 2)) / COUNT(*)) *\n",
    "         SQRT(SUM(POW(heart_attack_incidence - avg_y, 2)) / COUNT(*))) AS correlation_alcohol\n",
    "    FROM (\n",
    "        SELECT \n",
    "            alcohol_cosumption,\n",
    "            heart_attack_incidence,\n",
    "            (SELECT AVG(alcohol_cosumption) FROM heart_attack_germany) AS avg_x,\n",
    "            (SELECT AVG(heart_attack_incidence) FROM heart_attack_germany) AS avg_y\n",
    "        FROM \n",
    "            heart_attack_germany\n",
    "    ) AS subquery\n",
    "),\n",
    "SmokingCorrelation AS (\n",
    "    SELECT \n",
    "        (SUM((smoking_code - avg_x) * (heart_attack_incidence - avg_y)) / COUNT(*)) /\n",
    "        (SQRT(SUM(POW(smoking_code - avg_x, 2)) / COUNT(*)) *\n",
    "         SQRT(SUM(POW(heart_attack_incidence - avg_y, 2)) / COUNT(*))) AS correlation_smoking\n",
    "    FROM (\n",
    "        SELECT \n",
    "            CASE \n",
    "                WHEN smoking_status = 'Smoker' THEN 3\n",
    "                WHEN smoking_status = 'Former Smoker' THEN 2\n",
    "                WHEN smoking_status = 'Non-Smoker' THEN 1\n",
    "            END AS smoking_code,\n",
    "            heart_attack_incidence,\n",
    "            (SELECT AVG(CASE \n",
    "                            WHEN smoking_status = 'Smoker' THEN 3\n",
    "                            WHEN smoking_status = 'Former Smoker' THEN 2\n",
    "                            WHEN smoking_status = 'Non-Smoker' THEN 1\n",
    "                        END)\n",
    "             FROM heart_attack_germany) AS avg_x,\n",
    "            (SELECT AVG(heart_attack_incidence) FROM heart_attack_germany) AS avg_y\n",
    "        FROM \n",
    "            heart_attack_germany\n",
    "    ) AS subquery\n",
    ")\n",
    "SELECT \n",
    "    AlcoholCorrelation.correlation_alcohol AS \"Correlation between alcohol consumption and heart attack incidence\",\n",
    "    SmokingCorrelation.correlation_smoking AS \"Correlation between smoking habit and heart attack incidence\"\n",
    "FROM \n",
    "    AlcoholCorrelation, SmokingCorrelation;\n",
    "\"\"\"\n",
    "res35 = fetch_query_results(query35)\n",
    "res35"
   ]
  },
  {
   "cell_type": "markdown",
   "id": "57f1d48e-db6b-4ce7-b324-0599ed727424",
   "metadata": {},
   "source": [
    "__36.\tAnalyze the impact of education level on physical activity levels and its effect on heart attack rates.__"
   ]
  },
  {
   "cell_type": "code",
   "execution_count": null,
   "id": "7c5d8dc0-dba4-4f46-8a34-1c550377f398",
   "metadata": {},
   "outputs": [],
   "source": [
    "query36 = \"\"\" \n",
    "SELECT education_level,\n",
    "\tAVG(CASE WHEN physical_activity_level = 'High' THEN heart_attack_incidence END) AS high_phy_act,\n",
    "    AVG(CASE WHEN physical_activity_level = 'Moderate' THEN heart_attack_incidence END) AS moderate_phy_act,\n",
    "    AVG(CASE WHEN physical_activity_level = 'Low' THEN heart_attack_incidence END) AS low_phy_act\n",
    "FROM heart_attack_germany\n",
    "GROUP BY education_level;\n",
    "\"\"\"\n",
    "res36 = fetch_query_results(query36)\n",
    "res36"
   ]
  },
  {
   "cell_type": "markdown",
   "id": "2dd85932-3da7-4470-98f5-a5e16a0759e7",
   "metadata": {},
   "source": [
    "__37.\tIdentify the states where family history has the highest influence on heart attack rates, controlling for age group and gender.__"
   ]
  },
  {
   "cell_type": "code",
   "execution_count": null,
   "id": "85bef1f0-4d5e-4f99-ba0b-4626c77515c3",
   "metadata": {},
   "outputs": [],
   "source": [
    "query37 = \"\"\" \n",
    "WITH FamilyHistoryRates AS (\n",
    "    SELECT state, age_group, gender, family_history,\n",
    "           AVG(heart_attack_incidence) AS avg_incidence\n",
    "    FROM heart_attack_germany\n",
    "    GROUP BY state, age_group, gender, family_history\n",
    "),\n",
    "DifferenceByFamilyHistory AS (\n",
    "    SELECT state, age_group, gender,\n",
    "           MAX(CASE WHEN family_history = 1 THEN avg_incidence ELSE 0 END) -\n",
    "           MAX(CASE WHEN family_history = 0 THEN avg_incidence ELSE 0 END) AS influence_level\n",
    "    FROM FamilyHistoryRates\n",
    "    GROUP BY state, age_group, gender\n",
    ")\n",
    "SELECT state, age_group, gender, influence_level\n",
    "FROM DifferenceByFamilyHistory\n",
    "ORDER BY influence_level DESC\n",
    "LIMIT 10;\n",
    "\"\"\"\n",
    "res37 = fetch_query_results(query37)\n",
    "res37"
   ]
  },
  {
   "cell_type": "markdown",
   "id": "3f0a522f-3f63-4997-b32d-e347c35a6e61",
   "metadata": {},
   "source": [
    "__38.\tUse a CTE (Common Table Expression) to find the average diet quality and its relationship to heart attack rates in adults.__"
   ]
  },
  {
   "cell_type": "code",
   "execution_count": null,
   "id": "18beb782-b2e1-4eed-9faa-0b29659763db",
   "metadata": {},
   "outputs": [],
   "source": [
    "query38 = \"\"\" \n",
    "WITH DietQualityRates AS (\n",
    "    SELECT diet_quality, \n",
    "           AVG(heart_attack_incidence) AS avg_incidence,\n",
    "           COUNT(*) AS total_records\n",
    "    FROM heart_attack_germany\n",
    "    WHERE age_group = 'Adult'\n",
    "    GROUP BY diet_quality\n",
    ")\n",
    "SELECT diet_quality, avg_incidence, total_records,\n",
    "       CASE \n",
    "           WHEN avg_incidence > (SELECT AVG(heart_attack_incidence) FROM heart_attack_germany WHERE age_group = 'Adult') \n",
    "           THEN 'High Risk'\n",
    "           ELSE 'Low Risk'\n",
    "       END AS risk_level\n",
    "FROM DietQualityRates;\n",
    "\"\"\"\n",
    "res38 = fetch_query_results(query38)\n",
    "res38"
   ]
  },
  {
   "cell_type": "markdown",
   "id": "b7960d58-3753-4b7c-9bb5-7c5b0ed7617c",
   "metadata": {},
   "source": [
    "__39.\tAnalyze the relationship between hypertension and cholesterol levels and their combined effect on heart attack incidence rates.__"
   ]
  },
  {
   "cell_type": "code",
   "execution_count": null,
   "id": "923b4da7-4069-4c48-ac99-db9092f24d97",
   "metadata": {},
   "outputs": [],
   "source": [
    "query39 = \"\"\" \n",
    "SELECT hypertension, \n",
    "       ROUND(AVG(cholestrol_level),4) AS avg_cholesterol,\n",
    "       ROUND(AVG(heart_attack_incidence),4) AS avg_heart_attack_rate\n",
    "FROM heart_attack_germany\n",
    "GROUP BY hypertension\n",
    "ORDER BY avg_heart_attack_rate DESC;\n",
    "\"\"\"\n",
    "res39 = fetch_query_results(query39)\n",
    "res39"
   ]
  },
  {
   "cell_type": "markdown",
   "id": "4b008192-a01b-4ec3-8308-0ec4d23d7a34",
   "metadata": {},
   "source": [
    "__40.\tWrite a query to segment the population into high-risk and low-risk groups for heart attacks based on stress level, BMI, and healthcare access.__"
   ]
  },
  {
   "cell_type": "code",
   "execution_count": null,
   "id": "c8c53ee2-aa62-45de-823d-1ef1f1390fed",
   "metadata": {},
   "outputs": [],
   "source": [
    "query40 = \"\"\" \n",
    "WITH RiskSegmentation AS (\n",
    "    SELECT stress_level, bmi, healthcare_access, \n",
    "           CASE \n",
    "               WHEN stress_level = 'High' AND bmi > 30 AND healthcare_access = 'Hard' THEN 'High Risk'\n",
    "               WHEN stress_level = 'Moderate' AND bmi BETWEEN 25 AND 30 AND healthcare_access = 'Moderate' THEN 'Moderate Risk'\n",
    "               ELSE 'Low Risk'\n",
    "           END AS risk_category\n",
    "    FROM heart_attack_germany\n",
    ")\n",
    "SELECT risk_category, COUNT(*) AS population_count\n",
    "FROM RiskSegmentation\n",
    "GROUP BY risk_category\n",
    "ORDER BY population_count DESC;\n",
    "\"\"\"\n",
    "res40 = fetch_query_results(query40)\n",
    "res40"
   ]
  },
  {
   "cell_type": "code",
   "execution_count": null,
   "id": "47129b6f-9cbd-4c70-876e-94902fb4eeb2",
   "metadata": {},
   "outputs": [],
   "source": [
    "connection.close()\n",
    "print(\"Connection Closed\")"
   ]
  }
 ],
 "metadata": {
  "kernelspec": {
   "display_name": "Python 3 (ipykernel)",
   "language": "python",
   "name": "python3"
  },
  "language_info": {
   "codemirror_mode": {
    "name": "ipython",
    "version": 3
   },
   "file_extension": ".py",
   "mimetype": "text/x-python",
   "name": "python",
   "nbconvert_exporter": "python",
   "pygments_lexer": "ipython3",
   "version": "3.13.1"
  }
 },
 "nbformat": 4,
 "nbformat_minor": 5
}
